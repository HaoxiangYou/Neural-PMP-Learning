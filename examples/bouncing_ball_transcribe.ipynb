{
 "cells": [
  {
   "cell_type": "code",
   "execution_count": 1,
   "metadata": {},
   "outputs": [
    {
     "name": "stderr",
     "output_type": "stream",
     "text": [
      "<frozen importlib._bootstrap>:228: RuntimeWarning: scipy._lib.messagestream.MessageStream size changed, may indicate binary incompatibility. Expected 56 from C header, got 64 from PyObject\n"
     ]
    }
   ],
   "source": [
    "import jax\n",
    "from functools import partial\n",
    "from jax import grad, jacfwd, vmap, jit, hessian\n",
    "from jax.lax import scan, stop_gradient, cond\n",
    "import jax.random as jnp_random\n",
    "import jax.numpy as np\n",
    "\n",
    "from jax.example_libraries import stax, optimizers\n",
    "from jax.example_libraries.stax import elementwise, Tanh, Selu, Relu\n",
    "from jax.flatten_util import ravel_pytree\n",
    "\n",
    "import numpy as onp\n",
    "\n",
    "def powspace(start, stop, power, num):\n",
    "    start = np.power(start, 1/float(power))\n",
    "    stop = np.power(stop, 1/float(power))\n",
    "    return np.power( np.linspace(start, stop, num=num), power) \n",
    "\n",
    "from IPython.display import clear_output\n",
    "import matplotlib.pyplot as plt"
   ]
  },
  {
   "cell_type": "code",
   "execution_count": 2,
   "metadata": {},
   "outputs": [],
   "source": [
    "\n",
    "n,m,T = 2, 1, 1\n",
    "\n",
    "def ell(x, u):\n",
    "    return 0*(x[0]-2.)**2\n",
    "\n",
    "def guard(x):\n",
    "    return x[0]\n",
    "\n",
    "@jit\n",
    "def f(x, u):\n",
    "    _xdot = np.array([x[1], -9.81 + 10*jax.nn.relu(-guard(x))/0.2 - 0.5*x[1]]) #+ np.clip(u[0], 0, -10) \n",
    "    return _xdot\n",
    "\n",
    "\n",
    "def adjoint(x, u, rho):\n",
    "    return grad(ell)(x, u) + jacfwd(f)(x, u).T @ rho\n",
    "\n",
    "# def u_prime(x, rho):\n",
    "#     return -1/0.002 * jacfwd(f,argnums=1)(x,np.ones(m)).T @ rho\n",
    "\n",
    "def Hamiltonian(x, u, rho):\n",
    "    return rho @ f(x, u) + ell(x, u)\n",
    "\n",
    "\n"
   ]
  },
  {
   "cell_type": "code",
   "execution_count": 3,
   "metadata": {},
   "outputs": [],
   "source": [
    "x0 = np.array([1.0, 0.])\n",
    "dt = 0.001\n",
    "log = []\n",
    "for t in range(1000):\n",
    "    log.append(x0.copy())\n",
    "    x0 = x0 + dt * f(x0, np.zeros((1,))) "
   ]
  },
  {
   "cell_type": "code",
   "execution_count": 4,
   "metadata": {},
   "outputs": [
    {
     "data": {
      "text/plain": [
       "[<matplotlib.lines.Line2D at 0x168079610>,\n",
       " <matplotlib.lines.Line2D at 0x168079670>]"
      ]
     },
     "execution_count": 4,
     "metadata": {},
     "output_type": "execute_result"
    },
    {
     "data": {
      "image/png": "[encoded data removed]",
      "text/plain": [
       "<Figure size 432x288 with 1 Axes>"
      ]
     },
     "metadata": {
      "needs_background": "light"
     },
     "output_type": "display_data"
    }
   ],
   "source": [
    "plt.plot(log)"
   ]
  },
  {
   "cell_type": "code",
   "execution_count": 5,
   "metadata": {},
   "outputs": [],
   "source": [
    "from jax.nn.initializers import glorot_normal, normal, uniform\n",
    "\n",
    "def sin(x):\n",
    "    return np.cos(x)\n",
    "def exp(x):\n",
    "    return np.exp(x)\n",
    "Sin = elementwise(sin)\n",
    "Exp = elementwise(exp)\n",
    "x_init, x_net = stax.serial(\n",
    "    stax.Dense(164), Sin,\n",
    "    stax.Dense(164), Sin,\n",
    "    stax.Dense(n)\n",
    ")\n",
    "# x_init, x_net = stax.serial(\n",
    "#     stax.Dense(256, W_init=normal(stddev=10.0)),Sin,\n",
    "#     stax.Dense(n)\n",
    "# )\n",
    "rho_init, rho_net = stax.serial(\n",
    "    stax.Dense(164),Sin,\n",
    "    stax.Dense(164),Sin,\n",
    "    stax.Dense(n)\n",
    ")\n",
    "u_init, u_net = stax.serial(\n",
    "    stax.Dense(164),Sin,\n",
    "    stax.Dense(164),Sin,\n",
    "    stax.Dense(m)\n",
    ")\n",
    "\n",
    "# x_init, x_net = stax.serial(\n",
    "#     stax.Dense(64),Relu,\n",
    "#     stax.Dense(64),Relu,\n",
    "#     stax.Dense(n)\n",
    "# )\n",
    "\n",
    "# rho_init, rho_net = stax.serial(\n",
    "#     stax.Dense(64),Relu,\n",
    "#     stax.Dense(64),Relu,\n",
    "#     stax.Dense(n)\n",
    "# )\n",
    "# u_init, u_net = stax.serial(\n",
    "#     stax.Dense(64),Relu,\n",
    "#     stax.Dense(64),Relu,\n",
    "#     stax.Dense(m)\n",
    "# )\n",
    "\n",
    "rho_dot = jacfwd(rho_net, argnums=1)\n",
    "x_dot = jacfwd(x_net, argnums=1)\n",
    "# x0 = np.ones((n,))\n",
    "x0 = np.array([1., 0.])\n",
    "\n",
    "rng = jnp_random.PRNGKey(0)\n",
    "in_shape = (-1, n)\n",
    "_, x_params = x_init(rng, (-1,1))\n",
    "rng, _rng_val = jnp_random.split(rng, 2)\n",
    "_, rho_params = rho_init(_rng_val, (-1,1))\n",
    "rng, _rng_val = jnp_random.split(rng, 2)\n",
    "_, u_params = u_init(rng, (-1, 1))"
   ]
  },
  {
   "cell_type": "code",
   "execution_count": 6,
   "metadata": {},
   "outputs": [],
   "source": [
    "opt_init, opt_update, get_params = optimizers.adam(step_size=3e-3)\n",
    "opt_state = opt_init([x_params, rho_params, u_params])"
   ]
  },
  {
   "cell_type": "code",
   "execution_count": 7,
   "metadata": {},
   "outputs": [],
   "source": [
    "def loss(params, rho_params,t):\n",
    "    x_params, u_params = params\n",
    "    dxdt    = vmap(x_dot,   in_axes=(None, 0))(x_params, t).squeeze()\n",
    "    drhodt  = vmap(rho_dot, in_axes=(None, 0))(rho_params, t).squeeze()\n",
    "    x       = vmap(x_net,   in_axes=(None, 0))(x_params, t).squeeze()\n",
    "    rho     = vmap(rho_net, in_axes=(None, 0))(rho_params, t).squeeze()\n",
    "    u       = vmap(u_net,   in_axes=(None, 0))(u_params, t)[:,:,0]#.squeeze()\n",
    "    # return np.mean(vmap(ell)(x, u)[1:] + vmap(np.dot)(rho[1:], vmap(f)(x, u)[1:] - dxdt[1:])) \\\n",
    "    #     + rho[0] @ (x[0]-x0) \\\n",
    "    #         + np.mean(0.1*(vmap(f)(x, u)[1:] - dxdt[1:])**2) + np.sum(0.1*(x[0]-x0)**2)\n",
    "    return np.mean(vmap(ell)(x, u) + vmap(np.dot)(rho, vmap(f)(x, u) - dxdt)) \\\n",
    "        + rho[0] @ (x[0]-x0)  + ell(x[-1], u[-1])\\\n",
    "            + np.mean((vmap(f)(x, u) - dxdt)**2) + np.sum((x[0]-x0)**2)\n",
    "\n",
    "opt_init, opt_update, get_params = optimizers.adam(step_size=3e-4)\n",
    "copt_init, copt_update, cget_params = optimizers.adam(step_size=-3e-4)\n",
    "\n",
    "# opt_state = opt_init([x_params, rho_params, u_params])\n",
    "opt_state = opt_init([x_params, u_params])\n",
    "copt_state = copt_init(rho_params)\n",
    "\n",
    "@jit\n",
    "def step(i, opt_state, copt_state, t):\n",
    "    x_params, u_params  = get_params(opt_state)\n",
    "    rho_params = cget_params(copt_state)\n",
    "    g          = grad(loss)([x_params, u_params], rho_params, t)\n",
    "    glam       = grad(loss, argnums=1)([x_params, u_params], rho_params, t)\n",
    "    return opt_update(i, g, opt_state), copt_update(i, glam, copt_state)\n",
    "\n"
   ]
  },
  {
   "cell_type": "code",
   "execution_count": 8,
   "metadata": {},
   "outputs": [
    {
     "name": "stdout",
     "output_type": "stream",
     "text": [
      "149.8771\n"
     ]
    },
    {
     "data": {
      "image/png": "[encoded data removed]",
      "text/plain": [
       "<Figure size 432x288 with 1 Axes>"
      ]
     },
     "metadata": {
      "needs_background": "light"
     },
     "output_type": "display_data"
    },
    {
     "ename": "KeyboardInterrupt",
     "evalue": "",
     "output_type": "error",
     "traceback": [
      "\u001b[0;31m---------------------------------------------------------------------------\u001b[0m",
      "\u001b[0;31mKeyboardInterrupt\u001b[0m                         Traceback (most recent call last)",
      "\u001b[0;32m/var/folders/87/hlqv70yd0n79wj330vzqffx10y2fzc/T/ipykernel_92932/1152680255.py\u001b[0m in \u001b[0;36m<module>\u001b[0;34m\u001b[0m\n\u001b[1;32m      6\u001b[0m             [0.0],onp.random.uniform(0,5*T, size=(100,)), [T] ]\n\u001b[1;32m      7\u001b[0m             ))\n\u001b[0;32m----> 8\u001b[0;31m     \u001b[0mopt_state\u001b[0m\u001b[0;34m,\u001b[0m \u001b[0mcopt_state\u001b[0m \u001b[0;34m=\u001b[0m \u001b[0mstep\u001b[0m\u001b[0;34m(\u001b[0m\u001b[0mi\u001b[0m\u001b[0;34m,\u001b[0m \u001b[0mopt_state\u001b[0m\u001b[0;34m,\u001b[0m \u001b[0mcopt_state\u001b[0m\u001b[0;34m,\u001b[0m \u001b[0m_t\u001b[0m\u001b[0;34m)\u001b[0m\u001b[0;34m\u001b[0m\u001b[0;34m\u001b[0m\u001b[0m\n\u001b[0m\u001b[1;32m      9\u001b[0m     \u001b[0;32mif\u001b[0m \u001b[0mi\u001b[0m \u001b[0;34m%\u001b[0m \u001b[0;36m100\u001b[0m \u001b[0;34m==\u001b[0m \u001b[0;36m0\u001b[0m\u001b[0;34m:\u001b[0m\u001b[0;34m\u001b[0m\u001b[0;34m\u001b[0m\u001b[0m\n\u001b[1;32m     10\u001b[0m         \u001b[0mclear_output\u001b[0m\u001b[0;34m(\u001b[0m\u001b[0mwait\u001b[0m\u001b[0;34m=\u001b[0m\u001b[0;32mTrue\u001b[0m\u001b[0;34m)\u001b[0m\u001b[0;34m\u001b[0m\u001b[0;34m\u001b[0m\u001b[0m\n",
      "\u001b[0;32m~/miniconda3/lib/python3.9/site-packages/jax/example_libraries/optimizers.py\u001b[0m in \u001b[0;36m<lambda>\u001b[0;34m(data, xs)\u001b[0m\n\u001b[1;32m    117\u001b[0m     \u001b[0mOptimizerState\u001b[0m\u001b[0;34m,\u001b[0m\u001b[0;34m\u001b[0m\u001b[0;34m\u001b[0m\u001b[0m\n\u001b[1;32m    118\u001b[0m     \u001b[0;32mlambda\u001b[0m \u001b[0mxs\u001b[0m\u001b[0;34m:\u001b[0m \u001b[0;34m(\u001b[0m\u001b[0;34m(\u001b[0m\u001b[0mxs\u001b[0m\u001b[0;34m.\u001b[0m\u001b[0mpacked_state\u001b[0m\u001b[0;34m,\u001b[0m\u001b[0;34m)\u001b[0m\u001b[0;34m,\u001b[0m \u001b[0;34m(\u001b[0m\u001b[0mxs\u001b[0m\u001b[0;34m.\u001b[0m\u001b[0mtree_def\u001b[0m\u001b[0;34m,\u001b[0m \u001b[0mxs\u001b[0m\u001b[0;34m.\u001b[0m\u001b[0msubtree_defs\u001b[0m\u001b[0;34m)\u001b[0m\u001b[0;34m)\u001b[0m\u001b[0;34m,\u001b[0m\u001b[0;34m\u001b[0m\u001b[0;34m\u001b[0m\u001b[0m\n\u001b[0;32m--> 119\u001b[0;31m     lambda data, xs: OptimizerState(xs[0], data[0], data[1]))  # type: ignore[index]\n\u001b[0m\u001b[1;32m    120\u001b[0m \u001b[0;34m\u001b[0m\u001b[0m\n\u001b[1;32m    121\u001b[0m \u001b[0;34m\u001b[0m\u001b[0m\n",
      "\u001b[0;31mKeyboardInterrupt\u001b[0m: "
     ]
    }
   ],
   "source": [
    "# t = np.linspace(0, T, num=200)\n",
    "t = powspace(0, 5*T, power=2, num=100)\n",
    "for i in range(10000):\n",
    "    _t = np.array(\n",
    "        onp.concatenate([\n",
    "            [0.0],onp.random.uniform(0,5*T, size=(100,)), [T] ]\n",
    "            ))\n",
    "    opt_state, copt_state = step(i, opt_state, copt_state, _t)\n",
    "    if i % 100 == 0:\n",
    "        clear_output(wait=True)\n",
    "        x_params, u_params = get_params(opt_state)\n",
    "        rho_params = get_params(copt_state)\n",
    "        print(loss([x_params, u_params], rho_params,t))\n",
    "        _x      = vmap(x_net,   in_axes=(None,0))(x_params, t).squeeze()\n",
    "        _rho    = vmap(rho_net, in_axes=(None,0))(rho_params, t).squeeze()\n",
    "        _u      = vmap(u_net,   in_axes=(None,0))(u_params, t).squeeze()\n",
    "        plt.plot(t, _x)\n",
    "        plt.plot(t, _u)\n",
    "        plt.pause(0.01)"
   ]
  },
  {
   "cell_type": "code",
   "execution_count": 54,
   "metadata": {},
   "outputs": [
    {
     "name": "stdout",
     "output_type": "stream",
     "text": [
      "[48.118046 48.118046]\n"
     ]
    }
   ],
   "source": [
    "print(loss(get_params(opt_state), t))\n",
    "x_params, rho_params, u_params = get_params(opt_state)"
   ]
  },
  {
   "cell_type": "code",
   "execution_count": 138,
   "metadata": {},
   "outputs": [],
   "source": [
    "x = vmap(x_net, in_axes=(None,0))(x_params, t).squeeze()\n",
    "rho = vmap(rho_net, in_axes=(None,0))(rho_params, t).squeeze()\n",
    "u = vmap(u_net, in_axes=(None,0))(u_params, t)\n"
   ]
  },
  {
   "cell_type": "code",
   "execution_count": 139,
   "metadata": {},
   "outputs": [
    {
     "data": {
      "text/plain": [
       "[<matplotlib.lines.Line2D at 0x165269d90>,\n",
       " <matplotlib.lines.Line2D at 0x165269b80>]"
      ]
     },
     "execution_count": 139,
     "metadata": {},
     "output_type": "execute_result"
    },
    {
     "data": {
      "image/png": "[encoded data removed]",
      "text/plain": [
       "<Figure size 432x288 with 1 Axes>"
      ]
     },
     "metadata": {
      "needs_background": "light"
     },
     "output_type": "display_data"
    }
   ],
   "source": [
    "plt.plot(x)\n",
    "plt.plot(u.squeeze())\n",
    "plt.plot(rho)\n",
    "# plt.plot(vmap(f)(x,u)-vmap(x_dot, in_axes=(None, 0))(x_params, t).squeeze())\n",
    "# plt.plot(vmap(x_dot, in_axes=(None, 0))(x_params, t).squeeze())\n",
    "# plt.plot(u)"
   ]
  }
 ],
 "metadata": {
  "interpreter": {
   "hash": "798b538306534186ead633776371254f522515bdb811fa2fd0b251c0d7733175"
  },
  "kernelspec": {
   "display_name": "Python 3.9.10 ('base')",
   "language": "python",
   "name": "python3"
  },
  "language_info": {
   "codemirror_mode": {
    "name": "ipython",
    "version": 3
   },
   "file_extension": ".py",
   "mimetype": "text/x-python",
   "name": "python",
   "nbconvert_exporter": "python",
   "pygments_lexer": "ipython3",
   "version": "3.9.10"
  },
  "orig_nbformat": 4
 },
 "nbformat": 4,
 "nbformat_minor": 2
}
