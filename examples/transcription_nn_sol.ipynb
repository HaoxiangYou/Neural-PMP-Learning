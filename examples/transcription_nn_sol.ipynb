{
 "cells": [
  {
   "cell_type": "code",
   "execution_count": 1,
   "metadata": {},
   "outputs": [
    {
     "name": "stderr",
     "output_type": "stream",
     "text": [
      "<frozen importlib._bootstrap>:228: RuntimeWarning: scipy._lib.messagestream.MessageStream size changed, may indicate binary incompatibility. Expected 56 from C header, got 64 from PyObject\n"
     ]
    }
   ],
   "source": [
    "import jax\n",
    "from functools import partial\n",
    "from jax import grad, jacfwd, vmap, jit, hessian\n",
    "from jax.lax import scan, stop_gradient\n",
    "import jax.random as jnp_random\n",
    "import jax.numpy as np\n",
    "from jax.nn.initializers import glorot_normal, normal, uniform\n",
    "\n",
    "from jax.example_libraries import stax, optimizers\n",
    "from jax.example_libraries.stax import elementwise, Tanh, Selu, Relu\n",
    "from jax.flatten_util import ravel_pytree\n",
    "\n",
    "import numpy as onp\n",
    "\n",
    "def powspace(start, stop, power, num):\n",
    "    start = np.power(start, 1/float(power))\n",
    "    stop = np.power(stop, 1/float(power))\n",
    "    return np.power( np.linspace(start, stop, num=num), power) \n",
    "\n",
    "from IPython.display import clear_output\n",
    "import matplotlib.pyplot as plt"
   ]
  },
  {
   "cell_type": "code",
   "execution_count": 8,
   "metadata": {},
   "outputs": [],
   "source": [
    "n,m,T = 4, 1, 10\n",
    "\n",
    "def ell(x, u):\n",
    "    th, p, thdot, xdot = x\n",
    "    return -np.cos(th) + 0.01*p**6 + 0.01*np.sum(u**2)\n",
    "\n",
    "_sat = 4.0\n",
    "def f(s, a):\n",
    "    th, x, thdot, xdot = s\n",
    "    u_acc = _sat*np.tanh(a[0])\n",
    "    return np.array([\n",
    "                thdot, xdot,\n",
    "                9.81*np.sin(th)/1.0+u_acc*np.cos(th)/1.0-0.2*thdot,\n",
    "                u_acc-0.2*xdot])"
   ]
  },
  {
   "cell_type": "code",
   "execution_count": 9,
   "metadata": {},
   "outputs": [],
   "source": [
    "Sin = elementwise(np.sin)\n",
    "x_init, x_net = stax.serial(\n",
    "    # stax.Dense(256, W_init=normal(stddev=10.0)),Sin,\n",
    "    stax.Dense(64),Tanh,\n",
    "    stax.Dense(64),Tanh,\n",
    "    stax.Dense(n)\n",
    ")\n",
    "\n",
    "rho_init, rho_net = stax.serial(\n",
    "    stax.Dense(64),Tanh,\n",
    "    stax.Dense(64),Tanh,\n",
    "    stax.Dense(n)\n",
    ")\n",
    "u_init, u_net = stax.serial(\n",
    "    stax.Dense(64),Tanh,\n",
    "    stax.Dense(64),Tanh,\n",
    "    stax.Dense(m)\n",
    ")\n",
    "\n",
    "rho_dot = jacfwd(rho_net, argnums=1)\n",
    "x_dot = jacfwd(x_net, argnums=1)\n",
    "# x0 = np.ones((n,))\n",
    "x0 = np.array([3.1, 0.1, 0., 0.])\n",
    "\n",
    "rng         = jnp_random.PRNGKey(0)\n",
    "in_shape    = (-1, n)\n",
    "_, x_params     = x_init(rng, (-1,1))\n",
    "rng, _rng_val   = jnp_random.split(rng, 2)\n",
    "_, rho_params   = rho_init(_rng_val, (-1,1))\n",
    "rng, _rng_val   = jnp_random.split(rng, 2)\n",
    "_, u_params     = u_init(rng, (-1, 1))\n"
   ]
  },
  {
   "cell_type": "code",
   "execution_count": 10,
   "metadata": {},
   "outputs": [],
   "source": [
    "def loss(params, rho_params,t):\n",
    "    x_params, u_params = params\n",
    "    dxdt    = vmap(x_dot,   in_axes=(None, 0))(x_params, t).squeeze()\n",
    "    drhodt  = vmap(rho_dot, in_axes=(None, 0))(rho_params, t).squeeze()\n",
    "    x       = vmap(x_net,   in_axes=(None, 0))(x_params, t).squeeze()\n",
    "    rho     = vmap(rho_net, in_axes=(None, 0))(rho_params, t).squeeze()\n",
    "    u       = vmap(u_net,   in_axes=(None, 0))(u_params, t)[:,:,0]#.squeeze()\n",
    "    # return np.mean(vmap(ell)(x, u)[1:] + vmap(np.dot)(rho[1:], vmap(f)(x, u)[1:] - dxdt[1:])) \\\n",
    "    #     + rho[0] @ (x[0]-x0) \\\n",
    "    #         + np.mean(0.1*(vmap(f)(x, u)[1:] - dxdt[1:])**2) + np.sum(0.1*(x[0]-x0)**2)\n",
    "    return np.mean(vmap(ell)(x, u) + vmap(np.dot)(rho, vmap(f)(x, u) - dxdt)) \\\n",
    "        + rho[0] @ (x[0]-x0)  + ell(x[-1], u[-1])\\\n",
    "            + np.mean((vmap(f)(x, u) - dxdt)**2) + np.sum((x[0]-x0)**2)"
   ]
  },
  {
   "cell_type": "code",
   "execution_count": 11,
   "metadata": {},
   "outputs": [],
   "source": [
    "opt_init, opt_update, get_params = optimizers.adam(step_size=3e-4)\n",
    "copt_init, copt_update, cget_params = optimizers.adam(step_size=-3e-4)\n",
    "\n",
    "# opt_state = opt_init([x_params, rho_params, u_params])\n",
    "opt_state = opt_init([x_params, u_params])\n",
    "copt_state = copt_init(rho_params)\n",
    "\n",
    "@jit\n",
    "def step(i, opt_state, copt_state, t):\n",
    "    x_params, u_params  = get_params(opt_state)\n",
    "    rho_params = cget_params(copt_state)\n",
    "    g          = grad(loss)([x_params, u_params], rho_params, t)\n",
    "    glam       = grad(loss, argnums=1)([x_params, u_params], rho_params, t)\n",
    "    return opt_update(i, g, opt_state), copt_update(i, glam, copt_state)\n"
   ]
  },
  {
   "cell_type": "code",
   "execution_count": 12,
   "metadata": {},
   "outputs": [
    {
     "name": "stdout",
     "output_type": "stream",
     "text": [
      "21.302197\n"
     ]
    },
    {
     "data": {
      "image/png": "[encoded data removed]",
      "text/plain": [
       "<Figure size 432x288 with 1 Axes>"
      ]
     },
     "metadata": {
      "needs_background": "light"
     },
     "output_type": "display_data"
    }
   ],
   "source": [
    "# t = np.linspace(0, T, num=200)\n",
    "t = powspace(0, T, power=2, num=100)\n",
    "for i in range(10000):\n",
    "    _t = np.array(\n",
    "        onp.concatenate([\n",
    "            [0.0],onp.random.uniform(0,T, size=(100,)), [T] ]\n",
    "            ))\n",
    "    opt_state, copt_state = step(i, opt_state, copt_state, _t)\n",
    "    if i % 100 == 0:\n",
    "        clear_output(wait=True)\n",
    "        x_params, u_params = get_params(opt_state)\n",
    "        rho_params = get_params(copt_state)\n",
    "        print(loss([x_params, u_params], rho_params,t))\n",
    "        _x      = vmap(x_net,   in_axes=(None,0))(x_params, t).squeeze()\n",
    "        _rho    = vmap(rho_net, in_axes=(None,0))(rho_params, t).squeeze()\n",
    "        _u      = vmap(u_net,   in_axes=(None,0))(u_params, t).squeeze()\n",
    "        plt.plot(t, _x)\n",
    "        plt.plot(t, _u)\n",
    "        plt.pause(0.1)"
   ]
  },
  {
   "cell_type": "code",
   "execution_count": null,
   "metadata": {},
   "outputs": [],
   "source": []
  }
 ],
 "metadata": {
  "kernelspec": {
   "display_name": "Python 3.9.10 ('base')",
   "language": "python",
   "name": "python3"
  },
  "language_info": {
   "codemirror_mode": {
    "name": "ipython",
    "version": 3
   },
   "file_extension": ".py",
   "mimetype": "text/x-python",
   "name": "python",
   "nbconvert_exporter": "python",
   "pygments_lexer": "ipython3",
   "version": "3.9.10"
  },
  "orig_nbformat": 4,
  "vscode": {
   "interpreter": {
    "hash": "798b538306534186ead633776371254f522515bdb811fa2fd0b251c0d7733175"
   }
  }
 },
 "nbformat": 4,
 "nbformat_minor": 2
}
