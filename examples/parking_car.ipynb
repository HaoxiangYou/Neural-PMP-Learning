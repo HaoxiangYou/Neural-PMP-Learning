{
 "cells": [
  {
   "cell_type": "code",
   "execution_count": 1,
   "metadata": {},
   "outputs": [
    {
     "name": "stderr",
     "output_type": "stream",
     "text": [
      "<frozen importlib._bootstrap>:228: RuntimeWarning: scipy._lib.messagestream.MessageStream size changed, may indicate binary incompatibility. Expected 56 from C header, got 64 from PyObject\n"
     ]
    }
   ],
   "source": [
    "import jax\n",
    "from functools import partial\n",
    "from jax import grad, jacfwd, vmap, jit, hessian\n",
    "from jax.lax import scan, stop_gradient\n",
    "# from jax.ops import index_update, index\n",
    "import jax.random as jnp_random\n",
    "import jax.numpy as np\n",
    "from jax.nn.initializers import glorot_normal, normal, uniform\n",
    "\n",
    "from jax.example_libraries import stax, optimizers\n",
    "from jax.example_libraries.stax import elementwise, Tanh, Selu, Relu\n",
    "from jax.flatten_util import ravel_pytree\n",
    "\n",
    "import numpy as onp\n",
    "\n",
    "def powspace(start, stop, power, num):\n",
    "    start = np.power(start, 1/float(power))\n",
    "    stop = np.power(stop, 1/float(power))\n",
    "    return np.power( np.linspace(start, stop, num=num), power) \n",
    "\n",
    "from IPython.display import clear_output\n",
    "import matplotlib.pyplot as plt"
   ]
  },
  {
   "cell_type": "code",
   "execution_count": 2,
   "metadata": {},
   "outputs": [],
   "source": [
    "A = np.array([[0.,1.],[0.,0.]])\n",
    "B = np.array([[0.],[1.]]).squeeze()\n",
    "\n",
    "n,m,T = 3, 2, 50\n",
    "\n",
    "# def ell(x, u):\n",
    "#     return np.sum(np.square(x) + 0.01 * np.square(u))\n",
    "\n",
    "def ell(x, u):\n",
    "    px, py, th = x\n",
    "    return (px)**2 + (py-4)**2 + 100*(th)**2\n",
    "# def f(x, u):\n",
    "#     return A@x + np.array([0., np.tanh(u[0])])\n",
    "\n",
    "_sat = 4.0\n",
    "def f(s, a):\n",
    "    px, py, th = s\n",
    "    return np.array([np.cos(th)*a[0], np.sin(th)*a[0], a[1]])\n",
    "\n",
    "def adjoint(x, u, rho):\n",
    "    return grad(ell)(x, u) + jacfwd(f)(x, u).T @ rho\n",
    "\n",
    "# def u_prime(x, rho):\n",
    "#     return -1/0.002 * jacfwd(f,argnums=1)(x,np.ones(m)).T @ rho\n",
    "\n",
    "def Hamiltonian(x, u, rho):\n",
    "    return rho @ f(x, u) + ell(x, u)\n",
    "\n",
    "\n"
   ]
  },
  {
   "cell_type": "code",
   "execution_count": 3,
   "metadata": {},
   "outputs": [],
   "source": [
    "def sin(x):\n",
    "    return np.sin(x)\n",
    "Sin = elementwise(sin)\n",
    "x_init, x_net = stax.serial(\n",
    "    # stax.Dense(256, W_init=normal(stddev=10.0)),Sin,\n",
    "    stax.Dense(164),Tanh,\n",
    "    stax.Dense(164),Tanh,\n",
    "    stax.Dense(n)\n",
    ")\n",
    "\n",
    "rho_init, rho_net = stax.serial(\n",
    "    stax.Dense(164),Tanh,\n",
    "    stax.Dense(164),Tanh,\n",
    "    stax.Dense(n)\n",
    ")\n",
    "u_init, u_net = stax.serial(\n",
    "    stax.Dense(164),Tanh,\n",
    "    stax.Dense(164),Tanh,\n",
    "    stax.Dense(m)\n",
    ")\n",
    "\n",
    "rho_dot = jacfwd(rho_net, argnums=1)\n",
    "x_dot = jacfwd(x_net, argnums=1)\n",
    "# x0 = np.ones((n,))\n",
    "x0 = np.array([0., 0., 0.])\n",
    "\n",
    "rng = jnp_random.PRNGKey(0)\n",
    "in_shape = (-1, n)\n",
    "_, x_params = x_init(rng, (-1,1))\n",
    "rng, _rng_val = jnp_random.split(rng, 2)\n",
    "_, rho_params = rho_init(_rng_val, (-1,1))\n",
    "rng, _rng_val = jnp_random.split(rng, 2)\n",
    "_, u_params = u_init(rng, (-1, 1))"
   ]
  },
  {
   "cell_type": "code",
   "execution_count": 4,
   "metadata": {},
   "outputs": [],
   "source": [
    "opt_init, opt_update, get_params = optimizers.adam(step_size=1e-4)\n",
    "opt_state = opt_init([x_params, rho_params, u_params])"
   ]
  },
  {
   "cell_type": "code",
   "execution_count": 5,
   "metadata": {},
   "outputs": [],
   "source": [
    "def loss(params, t):\n",
    "    x_params, rho_params, u_params = params\n",
    "    dxdt    = vmap(x_dot, in_axes=(None, 0))(x_params, t).squeeze()\n",
    "    drhodt  = vmap(rho_dot, in_axes=(None, 0))(rho_params, t).squeeze()\n",
    "    x       = vmap(x_net, in_axes=(None, 0))(x_params, t).squeeze()\n",
    "    rho     = vmap(rho_net, in_axes=(None, 0))(rho_params, t).squeeze()\n",
    "    u       = vmap(u_net, in_axes=(None, 0))(u_params, t).squeeze()\n",
    "    return np.mean((dxdt - vmap(f)(x, u))**2 \\\n",
    "            + (drhodt + vmap(adjoint)(x, u, rho))**2 \\\n",
    "            + (x[0]-x0)**2 + (rho[-1] - grad(ell)(x[-1], u[-1]))**2) \\\n",
    "            + np.mean(vmap(Hamiltonian)(stop_gradient(x), u, stop_gradient(rho)))\n",
    "\n",
    "@jit \n",
    "def step(i, opt_state, t):\n",
    "    params = get_params(opt_state)\n",
    "    g = grad(loss)(params, t)\n",
    "    return opt_update(i, g, opt_state)\n"
   ]
  },
  {
   "cell_type": "code",
   "execution_count": 12,
   "metadata": {},
   "outputs": [
    {
     "name": "stdout",
     "output_type": "stream",
     "text": [
      "12.019499\n"
     ]
    },
    {
     "data": {
      "image/png": "[encoded data removed]",
      "text/plain": [
       "<Figure size 432x288 with 1 Axes>"
      ]
     },
     "metadata": {
      "needs_background": "light"
     },
     "output_type": "display_data"
    }
   ],
   "source": [
    "# t = np.linspace(0, T, num=200)\n",
    "t = powspace(0, T, power=2, num=100)\n",
    "for i in range(5000):\n",
    "    _t = np.array(\n",
    "        onp.concatenate([\n",
    "            [0.0],onp.random.uniform(0,T, size=(100,)), [T] ]\n",
    "            ))\n",
    "    opt_state = step(i, opt_state, _t)\n",
    "    if i % 100 == 0:\n",
    "        clear_output(wait=True)\n",
    "        x_params, rho_params, u_params = get_params(opt_state)\n",
    "        print(loss(get_params(opt_state), t))\n",
    "        _x = vmap(x_net, in_axes=(None,0))(x_params, t).squeeze()\n",
    "        _rho = vmap(rho_net, in_axes=(None,0))(rho_params, t).squeeze()\n",
    "        _u = vmap(u_net, in_axes=(None,0))(u_params, t).squeeze()\n",
    "        plt.plot(t, _x)\n",
    "        plt.plot(t, _u)\n",
    "        plt.pause(0.01)"
   ]
  },
  {
   "cell_type": "code",
   "execution_count": 13,
   "metadata": {},
   "outputs": [
    {
     "data": {
      "text/plain": [
       "[<matplotlib.lines.Line2D at 0x283477910>]"
      ]
     },
     "execution_count": 13,
     "metadata": {},
     "output_type": "execute_result"
    },
    {
     "data": {
      "image/png": "[encoded data removed]",
      "text/plain": [
       "<Figure size 432x288 with 1 Axes>"
      ]
     },
     "metadata": {
      "needs_background": "light"
     },
     "output_type": "display_data"
    }
   ],
   "source": [
    "plt.plot(_x[:,0], _x[:,1])"
   ]
  },
  {
   "cell_type": "code",
   "execution_count": 48,
   "metadata": {},
   "outputs": [
    {
     "name": "stdout",
     "output_type": "stream",
     "text": [
      "-2.5451927\n"
     ]
    }
   ],
   "source": [
    "print(loss(get_params(opt_state), t))\n",
    "x_params, rho_params, u_params = get_params(opt_state)"
   ]
  },
  {
   "cell_type": "code",
   "execution_count": 8,
   "metadata": {},
   "outputs": [],
   "source": [
    "x = vmap(x_net, in_axes=(None,0))(x_params, t).squeeze()\n",
    "rho = vmap(rho_net, in_axes=(None,0))(rho_params, t).squeeze()\n",
    "u = vmap(u_net, in_axes=(None,0))(u_params, t)\n"
   ]
  },
  {
   "cell_type": "code",
   "execution_count": 9,
   "metadata": {},
   "outputs": [
    {
     "data": {
      "text/plain": [
       "[<matplotlib.lines.Line2D at 0x17c9a6ac0>,\n",
       " <matplotlib.lines.Line2D at 0x17c9a68b0>,\n",
       " <matplotlib.lines.Line2D at 0x17c9a6af0>,\n",
       " <matplotlib.lines.Line2D at 0x17c9a6d60>]"
      ]
     },
     "execution_count": 9,
     "metadata": {},
     "output_type": "execute_result"
    },
    {
     "data": {
      "image/png": "[encoded data removed]",
      "text/plain": [
       "<Figure size 432x288 with 1 Axes>"
      ]
     },
     "metadata": {
      "needs_background": "light"
     },
     "output_type": "display_data"
    }
   ],
   "source": [
    "plt.plot(x)\n",
    "plt.plot(u.squeeze())\n",
    "plt.plot(rho)\n",
    "# plt.plot(vmap(f)(x,u)-vmap(x_dot, in_axes=(None, 0))(x_params, t).squeeze())\n",
    "# plt.plot(vmap(x_dot, in_axes=(None, 0))(x_params, t).squeeze())\n",
    "# plt.plot(u)"
   ]
  },
  {
   "cell_type": "markdown",
   "metadata": {},
   "source": [
    "### Drone dynamics"
   ]
  },
  {
   "cell_type": "code",
   "execution_count": 36,
   "metadata": {},
   "outputs": [],
   "source": [
    "from drone import DroneDynamics\n",
    "from transform_lib import euler2mat"
   ]
  },
  {
   "cell_type": "code",
   "execution_count": 37,
   "metadata": {},
   "outputs": [],
   "source": [
    "drone = DroneDynamics()\n",
    "_R = euler2mat([0.2,0.4,0.5])\n",
    "_p = np.ones(3)*1.\n",
    "_w = np.ones(3)*0.\n",
    "_v = np.ones(3)*0.\n",
    "x0 = np.concatenate([_R.ravel(), _p, _w, _v])\n",
    "\n",
    "Rd = onp.eye(3)\n",
    "Q = onp.diag([1.0,1.0,100.])\n",
    "def ell(x, u):\n",
    "    R = x[:9].reshape((3,3))\n",
    "    p = x[9:12]\n",
    "    w = x[12:15]\n",
    "    v = x[15:]\n",
    "    # tr_RtR = np.trace(R.T@Rd)\n",
    "    # _arc_c_arg = (tr_RtR - 1.)/2.0\n",
    "    # _th = np.arccos(_arc_c_arg)\n",
    "    R_err = np.linalg.norm(np.eye(3)-R)\n",
    "    _p_err = np.sum(Q@np.square(p - np.array([0.,0.,0.])))\n",
    "    return _p_err + R_err\\\n",
    "                + 1e-4*np.sum(np.square(v)) \\\n",
    "                + 1e-4*np.sum(np.square(w)) "
   ]
  },
  {
   "cell_type": "code",
   "execution_count": 63,
   "metadata": {},
   "outputs": [],
   "source": [
    "n, m, T = 18, 4, 10\n",
    "\n",
    "f = lambda x, u: drone.f(x,u)\n",
    "\n",
    "def adjoint(x, u, rho):\n",
    "    return grad(ell)(x, u) + jacfwd(f)(x, u).T @ rho\n",
    "\n",
    "def Hamiltonian(x, u, rho):\n",
    "    return rho @ f(x, u) + ell(x, u)"
   ]
  },
  {
   "cell_type": "code",
   "execution_count": 70,
   "metadata": {},
   "outputs": [],
   "source": [
    "def sin(x):\n",
    "    return np.sin(x)\n",
    "Sin = elementwise(sin)\n",
    "x_init, x_net = stax.serial(\n",
    "    stax.Dense(64),Tanh,\n",
    "    stax.Dense(64),Tanh,\n",
    "    stax.Dense(n)\n",
    ")\n",
    "\n",
    "rho_init, rho_net = stax.serial(\n",
    "    stax.Dense(64),Tanh,\n",
    "    stax.Dense(64),Tanh,\n",
    "    stax.Dense(n)\n",
    ")\n",
    "u_init, u_net = stax.serial(\n",
    "    stax.Dense(64),Tanh,\n",
    "    stax.Dense(64),Tanh,\n",
    "    stax.Dense(m)\n",
    ")\n",
    "\n",
    "rho_dot = jacfwd(rho_net, argnums=1)\n",
    "x_dot = jacfwd(x_net, argnums=1)\n",
    "# x0 = np.ones((n,))\n",
    "# x0 = np.array([3.1, 0.1, 0., 0.])\n",
    "\n",
    "rng = jnp_random.PRNGKey(0)\n",
    "# in_shape = (-1, n)\n",
    "_, x_params = x_init(rng, (-1,1))\n",
    "rng, _rng_val = jnp_random.split(rng, 2)\n",
    "_, rho_params = rho_init(_rng_val, (-1,1))\n",
    "rng, _rng_val = jnp_random.split(rng, 2)\n",
    "_, u_params = u_init(rng, (-1, 1))"
   ]
  },
  {
   "cell_type": "code",
   "execution_count": 71,
   "metadata": {},
   "outputs": [],
   "source": [
    "def loss(params, t):\n",
    "    x_params, rho_params, u_params = params\n",
    "    dxdt    = vmap(x_dot, in_axes=(None, 0))(x_params, t).squeeze()\n",
    "    drhodt  = vmap(rho_dot, in_axes=(None, 0))(rho_params, t).squeeze()\n",
    "    x       = vmap(x_net, in_axes=(None, 0))(x_params, t).squeeze()\n",
    "    rho     = vmap(rho_net, in_axes=(None, 0))(rho_params, t).squeeze()\n",
    "    u       = vmap(u_net, in_axes=(None, 0))(u_params, t).squeeze()\n",
    "    return np.mean((dxdt - vmap(f)(x, u))**2 \\\n",
    "            + (drhodt + vmap(adjoint)(x, u, rho))**2 \\\n",
    "            + (x[0]-x0)**2 + rho[-1]**2) \\\n",
    "            + np.mean(vmap(Hamiltonian)(stop_gradient(x), u, stop_gradient(rho)))\n",
    "\n",
    "@jit \n",
    "def step(i, opt_state, t):\n",
    "    params = get_params(opt_state)\n",
    "    g = grad(loss)(params, t)\n",
    "    return opt_update(i, g, opt_state)\n"
   ]
  },
  {
   "cell_type": "code",
   "execution_count": 72,
   "metadata": {},
   "outputs": [],
   "source": [
    "opt_init, opt_update, get_params = optimizers.adam(step_size=3e-3)\n",
    "opt_state = opt_init([x_params, rho_params, u_params])"
   ]
  },
  {
   "cell_type": "code",
   "execution_count": 73,
   "metadata": {},
   "outputs": [
    {
     "name": "stdout",
     "output_type": "stream",
     "text": [
      "17.663517\n"
     ]
    },
    {
     "data": {
      "image/png": "[encoded data removed]",
      "text/plain": [
       "<Figure size 432x288 with 1 Axes>"
      ]
     },
     "metadata": {
      "needs_background": "light"
     },
     "output_type": "display_data"
    },
    {
     "ename": "KeyboardInterrupt",
     "evalue": "",
     "output_type": "error",
     "traceback": [
      "\u001b[0;31m---------------------------------------------------------------------------\u001b[0m",
      "\u001b[0;31mKeyboardInterrupt\u001b[0m                         Traceback (most recent call last)",
      "\u001b[0;32m/var/folders/87/hlqv70yd0n79wj330vzqffx10y2fzc/T/ipykernel_88601/166578702.py\u001b[0m in \u001b[0;36m<module>\u001b[0;34m\u001b[0m\n\u001b[1;32m      2\u001b[0m \u001b[0mt\u001b[0m \u001b[0;34m=\u001b[0m \u001b[0mpowspace\u001b[0m\u001b[0;34m(\u001b[0m\u001b[0;36m0\u001b[0m\u001b[0;34m,\u001b[0m \u001b[0mT\u001b[0m\u001b[0;34m,\u001b[0m \u001b[0mpower\u001b[0m\u001b[0;34m=\u001b[0m\u001b[0;36m2\u001b[0m\u001b[0;34m,\u001b[0m \u001b[0mnum\u001b[0m\u001b[0;34m=\u001b[0m\u001b[0;36m200\u001b[0m\u001b[0;34m)\u001b[0m\u001b[0;34m\u001b[0m\u001b[0;34m\u001b[0m\u001b[0m\n\u001b[1;32m      3\u001b[0m \u001b[0;32mfor\u001b[0m \u001b[0mi\u001b[0m \u001b[0;32min\u001b[0m \u001b[0mrange\u001b[0m\u001b[0;34m(\u001b[0m\u001b[0;36m10000\u001b[0m\u001b[0;34m)\u001b[0m\u001b[0;34m:\u001b[0m\u001b[0;34m\u001b[0m\u001b[0;34m\u001b[0m\u001b[0m\n\u001b[0;32m----> 4\u001b[0;31m     \u001b[0mopt_state\u001b[0m \u001b[0;34m=\u001b[0m \u001b[0mstep\u001b[0m\u001b[0;34m(\u001b[0m\u001b[0mi\u001b[0m\u001b[0;34m,\u001b[0m \u001b[0mopt_state\u001b[0m\u001b[0;34m,\u001b[0m \u001b[0mt\u001b[0m\u001b[0;34m)\u001b[0m\u001b[0;34m\u001b[0m\u001b[0;34m\u001b[0m\u001b[0m\n\u001b[0m\u001b[1;32m      5\u001b[0m     \u001b[0;32mif\u001b[0m \u001b[0mi\u001b[0m \u001b[0;34m%\u001b[0m \u001b[0;36m100\u001b[0m \u001b[0;34m==\u001b[0m \u001b[0;36m0\u001b[0m\u001b[0;34m:\u001b[0m\u001b[0;34m\u001b[0m\u001b[0;34m\u001b[0m\u001b[0m\n\u001b[1;32m      6\u001b[0m         \u001b[0mclear_output\u001b[0m\u001b[0;34m(\u001b[0m\u001b[0mwait\u001b[0m\u001b[0;34m=\u001b[0m\u001b[0;32mTrue\u001b[0m\u001b[0;34m)\u001b[0m\u001b[0;34m\u001b[0m\u001b[0;34m\u001b[0m\u001b[0m\n",
      "\u001b[0;32m~/miniconda3/lib/python3.9/site-packages/jax/example_libraries/optimizers.py\u001b[0m in \u001b[0;36m<lambda>\u001b[0;34m(data, xs)\u001b[0m\n\u001b[1;32m    110\u001b[0m     \u001b[0mOptimizerState\u001b[0m\u001b[0;34m,\u001b[0m\u001b[0;34m\u001b[0m\u001b[0;34m\u001b[0m\u001b[0m\n\u001b[1;32m    111\u001b[0m     \u001b[0;32mlambda\u001b[0m \u001b[0mxs\u001b[0m\u001b[0;34m:\u001b[0m \u001b[0;34m(\u001b[0m\u001b[0;34m(\u001b[0m\u001b[0mxs\u001b[0m\u001b[0;34m.\u001b[0m\u001b[0mpacked_state\u001b[0m\u001b[0;34m,\u001b[0m\u001b[0;34m)\u001b[0m\u001b[0;34m,\u001b[0m \u001b[0;34m(\u001b[0m\u001b[0mxs\u001b[0m\u001b[0;34m.\u001b[0m\u001b[0mtree_def\u001b[0m\u001b[0;34m,\u001b[0m \u001b[0mxs\u001b[0m\u001b[0;34m.\u001b[0m\u001b[0msubtree_defs\u001b[0m\u001b[0;34m)\u001b[0m\u001b[0;34m)\u001b[0m\u001b[0;34m,\u001b[0m\u001b[0;34m\u001b[0m\u001b[0;34m\u001b[0m\u001b[0m\n\u001b[0;32m--> 112\u001b[0;31m     lambda data, xs: OptimizerState(xs[0], data[0], data[1]))  # type: ignore[index]\n\u001b[0m\u001b[1;32m    113\u001b[0m \u001b[0;34m\u001b[0m\u001b[0m\n\u001b[1;32m    114\u001b[0m \u001b[0;34m\u001b[0m\u001b[0m\n",
      "\u001b[0;31mKeyboardInterrupt\u001b[0m: "
     ]
    }
   ],
   "source": [
    "# t = np.linspace(0, T, num=200)\n",
    "t = powspace(0, T, power=2, num=200)\n",
    "for i in range(10000):\n",
    "    opt_state = step(i, opt_state, t)\n",
    "    if i % 100 == 0:\n",
    "        clear_output(wait=True)\n",
    "        x_params, rho_params, u_params = get_params(opt_state)\n",
    "        print(loss(get_params(opt_state), t))\n",
    "        _x = vmap(x_net, in_axes=(None,0))(x_params, t).squeeze()\n",
    "        _rho = vmap(rho_net, in_axes=(None,0))(rho_params, t).squeeze()\n",
    "        _u = vmap(u_net, in_axes=(None,0))(u_params, t).squeeze()\n",
    "        plt.plot(t, _x[:,9:12])\n",
    "        # plt.plot(t, _u)\n",
    "        plt.pause(0.01)"
   ]
  },
  {
   "cell_type": "code",
   "execution_count": 62,
   "metadata": {},
   "outputs": [
    {
     "data": {
      "text/plain": [
       "[<matplotlib.lines.Line2D at 0x151075220>,\n",
       " <matplotlib.lines.Line2D at 0x155d4a370>,\n",
       " <matplotlib.lines.Line2D at 0x15170fac0>,\n",
       " <matplotlib.lines.Line2D at 0x151c40f40>,\n",
       " <matplotlib.lines.Line2D at 0x151c40bb0>,\n",
       " <matplotlib.lines.Line2D at 0x155d4a640>,\n",
       " <matplotlib.lines.Line2D at 0x1517c2bb0>,\n",
       " <matplotlib.lines.Line2D at 0x155d67370>,\n",
       " <matplotlib.lines.Line2D at 0x151c295e0>,\n",
       " <matplotlib.lines.Line2D at 0x151c29760>,\n",
       " <matplotlib.lines.Line2D at 0x155d4a5b0>,\n",
       " <matplotlib.lines.Line2D at 0x151c29b50>,\n",
       " <matplotlib.lines.Line2D at 0x151c29490>,\n",
       " <matplotlib.lines.Line2D at 0x151c29bb0>,\n",
       " <matplotlib.lines.Line2D at 0x151c29cd0>,\n",
       " <matplotlib.lines.Line2D at 0x151c29df0>,\n",
       " <matplotlib.lines.Line2D at 0x151c29f10>,\n",
       " <matplotlib.lines.Line2D at 0x151c29f40>]"
      ]
     },
     "execution_count": 62,
     "metadata": {},
     "output_type": "execute_result"
    },
    {
     "data": {
      "image/png": "[encoded data removed]",
      "text/plain": [
       "<Figure size 432x288 with 1 Axes>"
      ]
     },
     "metadata": {
      "needs_background": "light"
     },
     "output_type": "display_data"
    }
   ],
   "source": [
    "plt.plot(_rho)"
   ]
  },
  {
   "cell_type": "code",
   "execution_count": null,
   "metadata": {},
   "outputs": [],
   "source": []
  }
 ],
 "metadata": {
  "interpreter": {
   "hash": "798b538306534186ead633776371254f522515bdb811fa2fd0b251c0d7733175"
  },
  "kernelspec": {
   "display_name": "Python 3.9.10 ('base')",
   "language": "python",
   "name": "python3"
  },
  "language_info": {
   "codemirror_mode": {
    "name": "ipython",
    "version": 3
   },
   "file_extension": ".py",
   "mimetype": "text/x-python",
   "name": "python",
   "nbconvert_exporter": "python",
   "pygments_lexer": "ipython3",
   "version": "3.9.10"
  },
  "orig_nbformat": 4
 },
 "nbformat": 4,
 "nbformat_minor": 2
}
